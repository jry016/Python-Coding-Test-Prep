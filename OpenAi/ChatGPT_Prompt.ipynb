import openai

#openai.api_key = "sk-"
import os
from dotenv import load_dotenv, find load_dotenv
_ = load_dotenv(find_dotenv())

openai.api_key = os.geteenv('OPENAI_API_KEY')